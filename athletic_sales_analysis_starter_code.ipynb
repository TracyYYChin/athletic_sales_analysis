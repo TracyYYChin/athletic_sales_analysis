{
 "cells": [
  {
   "cell_type": "code",
   "execution_count": null,
   "metadata": {},
   "outputs": [],
   "source": [
    "# Import Libraries and Dependencies\n",
    "import pandas as pd"
   ]
  },
  {
   "cell_type": "markdown",
   "metadata": {},
   "source": [
    "### 1. Combine and Clean the Data\n",
    "#### Import CSVs"
   ]
  },
  {
   "cell_type": "code",
   "execution_count": null,
   "metadata": {},
   "outputs": [],
   "source": [
    "# Read the CSV files into DataFrames.\n",
    "df_2020 = pd.read_csv('athletic_sales_2020.csv')\n",
    "df_2021 = pd.read_csv('athletic_sales_2021.csv')"
   ]
  },
  {
   "cell_type": "code",
   "execution_count": null,
   "metadata": {},
   "outputs": [],
   "source": [
    "# Display the 2020 sales DataFrame\n",
    "print(df_2020.head(5))"
   ]
  },
  {
   "cell_type": "code",
   "execution_count": null,
   "metadata": {},
   "outputs": [],
   "source": [
    "# Display the 2021 sales DataFrame\n",
    "print(df_2021.head(5))\n"
   ]
  },
  {
   "cell_type": "markdown",
   "metadata": {},
   "source": [
    "#### Check the data types of each DataFrame"
   ]
  },
  {
   "cell_type": "code",
   "execution_count": null,
   "metadata": {},
   "outputs": [],
   "source": [
    "# Check the 2020 sales data types.\n",
    "print(df_2020.dtypes)"
   ]
  },
  {
   "cell_type": "code",
   "execution_count": null,
   "metadata": {},
   "outputs": [],
   "source": [
    "# Check the 2021 sales data types.\n",
    "print(df_2021.dtypes)"
   ]
  },
  {
   "cell_type": "markdown",
   "metadata": {},
   "source": [
    "#### Combine the sales data by rows."
   ]
  },
  {
   "cell_type": "code",
   "execution_count": null,
   "metadata": {},
   "outputs": [],
   "source": [
    "# Combine the 2020 and 2021 sales DataFrames on the rows and reset the index.\n",
    "df_combined = pd.concat([df_2020, df_2021], axis=0)\n",
    "print(df_combined.count())"
   ]
  },
  {
   "cell_type": "code",
   "execution_count": null,
   "metadata": {},
   "outputs": [],
   "source": [
    "# Check if any values are null.\n",
    "null_check = pd.isnull(df_combined)\n",
    "null_check = null_check.any()\n",
    "print(null_check)"
   ]
  },
  {
   "cell_type": "code",
   "execution_count": null,
   "metadata": {},
   "outputs": [],
   "source": [
    "# Check the data type of each column\n",
    "print(df_combined.dtypes)"
   ]
  },
  {
   "cell_type": "code",
   "execution_count": 1,
   "metadata": {},
   "outputs": [
    {
     "ename": "NameError",
     "evalue": "name 'pd' is not defined",
     "output_type": "error",
     "traceback": [
      "\u001b[1;31m---------------------------------------------------------------------------\u001b[0m",
      "\u001b[1;31mNameError\u001b[0m                                 Traceback (most recent call last)",
      "Cell \u001b[1;32mIn[1], line 2\u001b[0m\n\u001b[0;32m      1\u001b[0m \u001b[38;5;66;03m# Convert the \"invoice_date\" to a datetime datatype\u001b[39;00m\n\u001b[1;32m----> 2\u001b[0m df_combined[\u001b[38;5;124m'\u001b[39m\u001b[38;5;124minvoice_date\u001b[39m\u001b[38;5;124m'\u001b[39m] \u001b[38;5;241m=\u001b[39m pd\u001b[38;5;241m.\u001b[39mto_datetime(df_combined[\u001b[38;5;124m'\u001b[39m\u001b[38;5;124minvoice_date\u001b[39m\u001b[38;5;124m'\u001b[39m])\n",
      "\u001b[1;31mNameError\u001b[0m: name 'pd' is not defined"
     ]
    }
   ],
   "source": [
    "# Convert the \"invoice_date\" to a datetime datatype\n",
    "df_combined['invoice_date'] = pd.to_datetime(df_combined['invoice_date'])\n"
   ]
  },
  {
   "cell_type": "code",
   "execution_count": null,
   "metadata": {},
   "outputs": [],
   "source": [
    "# Confirm that the \"invoice_date\" data type has been changed.\n",
    "print(df_combined.dtypes)"
   ]
  },
  {
   "cell_type": "markdown",
   "metadata": {},
   "source": [
    "### 2. Determine which Region Sold the Most Products"
   ]
  },
  {
   "cell_type": "markdown",
   "metadata": {},
   "source": [
    "#### Using `groupby`"
   ]
  },
  {
   "cell_type": "code",
   "execution_count": null,
   "metadata": {},
   "outputs": [],
   "source": [
    "# Show the number products sold for region, state, and city.\n",
    "# Rename the sum to \"Total_Products_Sold\".\n",
    "grouped_df = df_combined.groupby(['region', 'state', 'city'])['units_sold'].sum().reset_index()\n",
    "grouped_df = grouped_df.rename(columns={'units_sold': 'Total_Products_Sold'})\n",
    "\n",
    "# Show the top 5 results.\n",
    "top_5_df = grouped_df.sort_values(by='Total_Products_Sold', ascending=False).head(5)\n",
    "\n",
    "print(top_5_df)\n",
    "                 "
   ]
  },
  {
   "cell_type": "markdown",
   "metadata": {},
   "source": [
    "#### Using `pivot_table`"
   ]
  },
  {
   "cell_type": "code",
   "execution_count": null,
   "metadata": {},
   "outputs": [],
   "source": [
    "# Show the number products sold for region, state, and city.\n",
    "pivot_table = df_combined.pivot_table(index=['region', 'state', 'city'],\n",
    "                                      values= 'units_sold',\n",
    "                                      aggfunc='sum')\n",
    "\n",
    "# Rename the \"units_sold\" column to \"Total_Products_Sold\"\n",
    "pivot_table = pivot_table.rename(columns={'units_sold' : 'Total_Products_Sold'})\n",
    "\n",
    "# Show the top 5 results.\n",
    "top_five_results = pivot_table.sort_values(by='Total_Products_Sold', ascending=False).head(5)\n",
    "print(top_five_results)"
   ]
  },
  {
   "cell_type": "markdown",
   "metadata": {},
   "source": [
    "### 3. Determine which Region had the Most Sales"
   ]
  },
  {
   "cell_type": "markdown",
   "metadata": {},
   "source": [
    "#### Using `groupby`"
   ]
  },
  {
   "cell_type": "code",
   "execution_count": null,
   "metadata": {},
   "outputs": [],
   "source": [
    "# Show the total sales for the products sold for each region, state, and city.\n",
    "# Rename the \"total_sales\" column to \"Total Sales\"\n",
    "grouped_df = df_combined.groupby(['region', 'state', 'city'])['total_sales'].sum()\n",
    "grouped_df = grouped_df.reset_index(name='Total_Sales')\n",
    "\n",
    "# Show the top 5 results.\n",
    "top_sales = (grouped_df.sort_values(by='Total_Sales', ascending=False)\n",
    "             .head(5)\n",
    "             .to_string(index=False))\n",
    "print(top_sales)"
   ]
  },
  {
   "cell_type": "markdown",
   "metadata": {},
   "source": [
    "#### Using `pivot_table`"
   ]
  },
  {
   "cell_type": "code",
   "execution_count": null,
   "metadata": {},
   "outputs": [],
   "source": [
    "# Show the total sales for the products sold for each region, state, and city.\n",
    "my_table = df_combined.pivot_table(index=['region', 'state', 'city'],\n",
    "                                     values='total_sales',\n",
    "                                     aggfunc='sum')\n",
    "\n",
    "# Optional: Rename the \"total_sales\" column to \"Total Sales\"\n",
    "my_table = my_table.rename(columns={'total_sales': 'Total Sales'})\n",
    "\n",
    "# Show the top 5 results.\n",
    "top_5_sales = my_table.sort_values('Total Sales', ascending=False).head(5)\n",
    "print(top_5_sales)"
   ]
  },
  {
   "cell_type": "markdown",
   "metadata": {
    "tags": []
   },
   "source": [
    "### 4. Determine which Retailer had the Most Sales"
   ]
  },
  {
   "cell_type": "markdown",
   "metadata": {},
   "source": [
    "#### Using `groupby`"
   ]
  },
  {
   "cell_type": "code",
   "execution_count": null,
   "metadata": {},
   "outputs": [],
   "source": [
    "# Show the total sales for the products sold for each retailer, region, state, and city.\n",
    "# Rename the \"total_sales\" column to \"Total Sales\"\n",
    "retailer_group_df = df_combined.groupby(['retailer', 'region', 'state', 'city'])['total_sales'].sum()\n",
    "retailer_group_df = retailer_group_df.reset_index(name='Total Sales')\n",
    "# Show the top 5 results.\n",
    "top_retailer = (retailer_group_df.sort_values(by='Total Sales', ascending=False)\n",
    "                .head(5)\n",
    "                .to_string(index=False))\n",
    "print(top_retailer)\n"
   ]
  },
  {
   "cell_type": "markdown",
   "metadata": {},
   "source": [
    "#### Using `pivot_table`"
   ]
  },
  {
   "cell_type": "code",
   "execution_count": null,
   "metadata": {},
   "outputs": [],
   "source": [
    "# Show the total sales for the products sold for each retailer, region, state, and city.\n",
    "retailer_table = df_combined.pivot_table(index=['retailer', \"region\", 'state', 'city'],\n",
    "                                         values= 'total_sales',\n",
    "                                         aggfunc='sum')\n",
    "\n",
    "# Optional: Rename the \"total_sales\" column to \"Total Sales\"\n",
    "retailer_table = retailer_table.rename(columns={'total_sales': 'Total Sales'})\n",
    "\n",
    "# Show the top 5 results.\n",
    "top_5_retailers = retailer_table.sort_values('Total Sales', ascending=False).head(5)\n",
    "print(top_5_retailers)\n",
    "\n"
   ]
  },
  {
   "cell_type": "markdown",
   "metadata": {},
   "source": [
    "### 5. Determine which Retailer Sold the Most Women's Athletic Footwear"
   ]
  },
  {
   "cell_type": "code",
   "execution_count": null,
   "metadata": {},
   "outputs": [],
   "source": [
    "# Filter the sales data to get the women's athletic footwear sales data.\n",
    "womens_shoes_df = df_combined[df_combined['product'] == \"Women's Athletic Footwear\"]\n"
   ]
  },
  {
   "cell_type": "markdown",
   "metadata": {},
   "source": [
    "#### Using `groupby`"
   ]
  },
  {
   "cell_type": "code",
   "execution_count": null,
   "metadata": {},
   "outputs": [],
   "source": [
    "# Show the total number of women's athletic footwear sold for each retailer, region, state, and city.\n",
    "# Rename the \"units_sold\" column to \"Womens_Footwear_Units_Sold\"\n",
    "womens_shoe_df = df_combined.groupby(['retailer', 'region', 'state', 'city'])['units_sold'].sum()\n",
    "womens_shoe_df_adj = womens_shoe_df.reset_index(name=\"Womens_Footwear_Units_Sold\")\n",
    "# Show the top 5 results.\n",
    "top_womems_retailer = (womens_shoe_df_adj.sort_values(by='Womens_Footwear_Units_Sold', ascending=False)\n",
    "                       .head(5)\n",
    "                       .to_string(index=False))\n",
    "print(top_womems_retailer)"
   ]
  },
  {
   "cell_type": "markdown",
   "metadata": {},
   "source": [
    "#### Using `pivot_table`"
   ]
  },
  {
   "cell_type": "code",
   "execution_count": null,
   "metadata": {},
   "outputs": [],
   "source": [
    "# Show the total number of women's athletic footwear sold for each retailer, region, state, and city.\n",
    "womens_shoe_df = womens_shoe_df.reset_index()\n",
    "womens_table = womens_shoe_df.pivot_table(index=['retailer', 'region', 'state', 'city'],\n",
    "                                            values='units_sold',\n",
    "                                            aggfunc='sum')\n",
    "\n",
    "# Rename the \"units_sold\" column to \"Womens_Footwear_Units_Sold\"\n",
    "womens_table = womens_table.rename(columns={'units_sold': 'Womens_Footwear_Units_Sold'})\n",
    "# Show the top 5 results.\n",
    "top_5_w_table = womens_table.sort_values('Womens_Footwear_Units_Sold', ascending=False).head(5)\n",
    "\n",
    "print(top_5_w_table)\n"
   ]
  },
  {
   "cell_type": "markdown",
   "metadata": {},
   "source": [
    "### 5. Determine the Day with the Most Women's Athletic Footwear Sales"
   ]
  },
  {
   "cell_type": "code",
   "execution_count": null,
   "metadata": {},
   "outputs": [],
   "source": [
    "# Create a pivot table with the 'invoice_date' column is the index, and the \"total_sales\" as the values.\n",
    "womens_shoes_table_df= df_combined[df_combined['product'] == \"Women's Athletic Footwear\"]\n",
    "womens_pivot_table = womens_shoes_table_df.pivot_table(index='invoice_date', \n",
    "                                             values='total_sales', \n",
    "                                             aggfunc='sum')\n",
    "\n",
    "# Optional: Rename the \"total_sales\" column to \"Total Sales\"\n",
    "womens_pivot_table = womens_pivot_table.rename(columns={'total_sales': 'Total Sales'})\n",
    "\n",
    "# Show the table.\n",
    "print(womens_pivot_table)"
   ]
  },
  {
   "cell_type": "code",
   "execution_count": null,
   "metadata": {},
   "outputs": [],
   "source": [
    "# Resample the pivot table into daily bins, and get the total sales for each day.\n",
    "daily_sales = womens_pivot_table.resample('D').sum()\n",
    "\n",
    "# Sort the resampled pivot table in ascending order on \"Total Sales\".\n",
    "sorted_daily_sales = daily_sales.sort_values(by='Total Sales', ascending=False)\n",
    "print(sorted_daily_sales)\n",
    "\n",
    "# Extracting the day with the highest sales\n",
    "highest_sales_row = sorted_daily_sales.idxmax()\n",
    "\n",
    "highest_sales_date = highest_sales_row['Total Sales']\n",
    "highest_sales_value = sorted_daily_sales.loc[highest_sales_date, 'Total Sales']\n",
    "\n",
    "print(f\"The day with the highest sales for women's athletic footwear was {highest_sales_date.strftime('%Y-%m-%d')} with a total of "
   ]
  },
  {
   "cell_type": "markdown",
   "metadata": {},
   "source": [
    "### 6.  Determine the Week with the Most Women's Athletic Footwear Sales"
   ]
  },
  {
   "cell_type": "code",
   "execution_count": null,
   "metadata": {},
   "outputs": [],
   "source": [
    "# Resample the pivot table into weekly bins, and get the total sales for each week.\n",
    "weekly_sales = womens_pivot_table.resample('W').sum()\n",
    "\n",
    "# Sort the resampled pivot table in ascending order on \"Total Sales\".\n",
    "sorted_weekly_sales = weekly_sales.sort_values(by='Total Sales', ascending=False)\n",
    "print(sorted_weekly_sales)\n"
   ]
  },
  {
   "cell_type": "code",
   "execution_count": null,
   "metadata": {},
   "outputs": [],
   "source": [
    "# Extracting the week with the highest sales\n",
    "highest_sales_week = sorted_weekly_sales.index[0]\n",
    "highest_sales_value = sorted_weekly_sales.iloc[0]['Total Sales']\n",
    "\n",
    "# Format the start and end dates of the week\n",
    "week_start = highest_sales_week.strftime('%Y-%m-%d')\n",
    "week_end = (highest_sales_week + pd.Timedelta(days=6)).strftime('%Y-%m-%d')\n",
    "\n",
    "print(f\"The week with the highest sales for women's athletic footwear was from {week_start} to {week_end}, with a total of ${hi"
   ]
  }
 ],
 "metadata": {
  "kernelspec": {
   "display_name": "Python 3 (ipykernel)",
   "language": "python",
   "name": "python3"
  },
  "language_info": {
   "codemirror_mode": {
    "name": "ipython",
    "version": 3
   },
   "file_extension": ".py",
   "mimetype": "text/x-python",
   "name": "python",
   "nbconvert_exporter": "python",
   "pygments_lexer": "ipython3",
   "version": "3.11.5"
  }
 },
 "nbformat": 4,
 "nbformat_minor": 4
}
